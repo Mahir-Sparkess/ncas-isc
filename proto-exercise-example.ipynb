{
 "cells": [
  {
   "cell_type": "code",
   "execution_count": 25,
   "metadata": {
    "collapsed": true
   },
   "outputs": [],
   "source": [
    "import requests\n",
    "from datetime import datetime as dt"
   ]
  },
  {
   "cell_type": "code",
   "execution_count": 26,
   "outputs": [],
   "source": [
    "# IMPORT DATA FROM WEB API\n",
    "\n",
    "url = 'https://api.weather.gov/'\n",
    "coords = '40.7128,-74.0060' # latitude North, longitude East\n",
    "\n",
    "res = requests.get(f'{url}points/{coords}')\n",
    "res = res.json()\n",
    "\n",
    "properties = res.get('properties')\n",
    "gridid = properties.get('gridId')\n",
    "gridx = properties.get('gridX')\n",
    "gridy = properties.get('gridY')"
   ],
   "metadata": {
    "collapsed": false,
    "pycharm": {
     "name": "#%%\n"
    }
   }
  },
  {
   "cell_type": "code",
   "execution_count": 27,
   "outputs": [
    {
     "name": "stdout",
     "output_type": "stream",
     "text": [
      "[-74.0250952, 40.7270524] 128 128\n",
      "seconds since 2021-09-17 08:00:00\n"
     ]
    }
   ],
   "source": [
    "data = requests.get(f'{url}gridpoints/{gridid}/{gridx},{gridy}')\n",
    "data = data.json()\n",
    "pos = data.get('geometry').get('coordinates')[0][0]\n",
    "data = data.get('properties').get('temperature').get('values')\n",
    "\n",
    "timeseries = []\n",
    "temps = []\n",
    "\n",
    "for item in data:\n",
    "    date = item.get('validTime')\n",
    "    date = dt.strptime(date.split('/')[0], '%Y-%m-%dT%H:%M:%S%z')\n",
    "    timeseries.append(date)\n",
    "    temp = item.get('value')\n",
    "    temps.append(temp)\n",
    "\n",
    "print(pos, len(timeseries), len(temps))\n",
    "\n",
    "base_time = timeseries[0]\n",
    "time_vals = []\n",
    "\n",
    "for t in timeseries:\n",
    "    val = t - base_time\n",
    "    ts = val.total_seconds()\n",
    "    time_vals.append(ts)\n",
    "\n",
    "time_units = \"seconds since \" + base_time.strftime('%Y-%m-%d %H:%M:%S')\n",
    "print(time_units)"
   ],
   "metadata": {
    "collapsed": false,
    "pycharm": {
     "name": "#%%\n"
    }
   }
  },
  {
   "cell_type": "code",
   "execution_count": 29,
   "outputs": [
    {
     "ename": "PermissionError",
     "evalue": "[Errno 13] Permission denied: b'/Users/kazi.mahir/Documents/OKX-temps.nc'",
     "output_type": "error",
     "traceback": [
      "\u001B[0;31m---------------------------------------------------------------------------\u001B[0m",
      "\u001B[0;31mPermissionError\u001B[0m                           Traceback (most recent call last)",
      "\u001B[0;32m/var/folders/vy/z9glzvhx775gkx79jmjrw7s00000gr/T/ipykernel_62347/2300743185.py\u001B[0m in \u001B[0;36m<module>\u001B[0;34m\u001B[0m\n\u001B[1;32m      5\u001B[0m \u001B[0;34m\u001B[0m\u001B[0m\n\u001B[1;32m      6\u001B[0m \u001B[0mfn\u001B[0m \u001B[0;34m=\u001B[0m \u001B[0;34mf'/Users/kazi.mahir/Documents/{gridid}-temps.nc'\u001B[0m\u001B[0;34m\u001B[0m\u001B[0;34m\u001B[0m\u001B[0m\n\u001B[0;32m----> 7\u001B[0;31m \u001B[0mds\u001B[0m \u001B[0;34m=\u001B[0m \u001B[0mnc\u001B[0m\u001B[0;34m.\u001B[0m\u001B[0mDataset\u001B[0m\u001B[0;34m(\u001B[0m\u001B[0mfn\u001B[0m\u001B[0;34m,\u001B[0m \u001B[0;34m'w'\u001B[0m\u001B[0;34m,\u001B[0m \u001B[0mformat\u001B[0m\u001B[0;34m=\u001B[0m\u001B[0;34m'NETCDF4'\u001B[0m\u001B[0;34m)\u001B[0m\u001B[0;34m\u001B[0m\u001B[0;34m\u001B[0m\u001B[0m\n\u001B[0m\u001B[1;32m      8\u001B[0m \u001B[0;34m\u001B[0m\u001B[0m\n\u001B[1;32m      9\u001B[0m \u001B[0mtime_dim\u001B[0m \u001B[0;34m=\u001B[0m \u001B[0mds\u001B[0m\u001B[0;34m.\u001B[0m\u001B[0mcreateDimension\u001B[0m\u001B[0;34m(\u001B[0m\u001B[0;34m'time'\u001B[0m\u001B[0;34m,\u001B[0m \u001B[0;32mNone\u001B[0m\u001B[0;34m)\u001B[0m\u001B[0;34m\u001B[0m\u001B[0;34m\u001B[0m\u001B[0m\n",
      "\u001B[0;32msrc/netCDF4/_netCDF4.pyx\u001B[0m in \u001B[0;36mnetCDF4._netCDF4.Dataset.__init__\u001B[0;34m()\u001B[0m\n",
      "\u001B[0;32msrc/netCDF4/_netCDF4.pyx\u001B[0m in \u001B[0;36mnetCDF4._netCDF4._ensure_nc_success\u001B[0;34m()\u001B[0m\n",
      "\u001B[0;31mPermissionError\u001B[0m: [Errno 13] Permission denied: b'/Users/kazi.mahir/Documents/OKX-temps.nc'"
     ]
    }
   ],
   "source": [
    "# EXPORT DATA TO NETCDF4\n",
    "\n",
    "import netCDF4 as nc\n",
    "import numpy as np\n",
    "\n",
    "fn = f'/Users/kazi.mahir/Documents/{gridid}-temps.nc'\n",
    "ds = nc.Dataset(fn, 'w', format='NETCDF4')\n",
    "\n",
    "time_dim = ds.createDimension('time', None)\n",
    "\n",
    "time_var = ds.createVariable('time', np.float, ('time',))\n",
    "time_var[:] = time_vals\n",
    "time_var.units = time_units\n",
    "time_var.standard_name = 'time'\n",
    "time_var.calendar = 'standard'\n",
    "\n",
    "temp = ds.createVariable('temp', np.float, ('time',))\n",
    "temp[:] = temps\n",
    "temp.var_id = 'temp'\n",
    "temp.long_name = 'temperature of air (degrees C)'\n",
    "temp.units = 'degrees C'\n",
    "temp.standard_name = 'air_temperature'\n",
    "\n",
    "ds.Conventions = \"CF-1.6\"\n",
    "ds.institution = 'NCAS'\n",
    "ds.title = \"my first cf-netcdf file\"\n",
    "ds.location = f'latitude N: {pos[1]}, longitude E: {pos[0]}'\n",
    "\n",
    "ds.close()"
   ],
   "metadata": {
    "collapsed": false,
    "pycharm": {
     "name": "#%%\n"
    }
   }
  },
  {
   "cell_type": "code",
   "execution_count": 30,
   "outputs": [],
   "source": [
    "# IMPORT NETCDF4\n",
    "\n",
    "from netCDF4 import Dataset, num2date\n",
    "import matplotlib.pyplot as plt\n",
    "\n",
    "net_data = Dataset(fn, mode='r')\n",
    "\n",
    "temps = net_data.variables['temp'][:]\n",
    "times = net_data.variables['time'][:]\n",
    "\n",
    "datetimes = num2date(times[:],\n",
    "                     units=net_data.variables['time'].units,\n",
    "                     calendar=net_data.variables['time'].calendar)"
   ],
   "metadata": {
    "collapsed": false,
    "pycharm": {
     "name": "#%%\n"
    }
   }
  },
  {
   "cell_type": "code",
   "execution_count": 31,
   "outputs": [
    {
     "data": {
      "text/plain": "[<matplotlib.lines.Line2D at 0x7fe32d6d7940>]"
     },
     "execution_count": 31,
     "metadata": {},
     "output_type": "execute_result"
    },
    {
     "data": {
      "text/plain": "<Figure size 432x288 with 1 Axes>",
      "image/png": "[encoded data removed]"
     },
     "metadata": {
      "needs_background": "light"
     },
     "output_type": "display_data"
    }
   ],
   "source": [
    "# PLOT NETCDF DATA\n",
    "\n",
    "import matplotlib.pyplot as plt\n",
    "import matplotlib.dates as mdates\n",
    "\n",
    "fmt_day = mdates.DayLocator()\n",
    "fmt_hour = mdates.HourLocator()\n",
    "\n",
    "fig, ax = plt.subplots()\n",
    "\n",
    "ax.xaxis.set_major_locator(fmt_day)\n",
    "ax.xaxis.set_minor_locator(fmt_hour)\n",
    "\n",
    "ax.xaxis.set_major_formatter(mdates.DateFormatter('%m-%d'))\n",
    "plt.xlabel(net_data.variables['time'].standard_name)\n",
    "plt.ylabel(net_data.variables['temp'].standard_name + ' / ' + net_data.variables['temp'].units)\n",
    "plt.title(net_data.title)\n",
    "\n",
    "fig.tight_layout()\n",
    "plt.plot_date(datetimes, temps, '-')\n"
   ],
   "metadata": {
    "collapsed": false,
    "pycharm": {
     "name": "#%%\n"
    }
   }
  }
 ],
 "metadata": {
  "kernelspec": {
   "display_name": "Python 3",
   "language": "python",
   "name": "python3"
  },
  "language_info": {
   "codemirror_mode": {
    "name": "ipython",
    "version": 2
   },
   "file_extension": ".py",
   "mimetype": "text/x-python",
   "name": "python",
   "nbconvert_exporter": "python",
   "pygments_lexer": "ipython2",
   "version": "2.7.6"
  }
 },
 "nbformat": 4,
 "nbformat_minor": 0
}