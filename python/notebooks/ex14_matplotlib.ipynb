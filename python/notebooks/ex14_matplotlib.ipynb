{
 "cells": [
  {
   "cell_type": "markdown",
   "metadata": {
    "collapsed": true,
    "pycharm": {
     "name": "#%% md\n"
    }
   },
   "source": [
    "# Exercise 14: Plotting graphs with Matplotlib\n",
    "\n",
    "## Aims: Introduce plotting graphs using matplotlib\n",
    "\n",
    "### Issues covered:\n",
    "\n",
    "- Import, create and save plots made using matplotlib\n",
    "- Plotting with multiple axes and multiple graphs on the page\n",
    "- Plot gridded data using Cartopy\n",
    "\n",
    "## 1. Getting started with Matplotlib\n",
    "\n",
    "In this section, this will be an introduction to using matplotlib and creating simple plots.\n",
    "\n",
    "Note: with Jupyter notebooks, each codeblock resets any previous plots and matplotlib calls and is independent of each other.\n",
    "To display a plot, just run the code block unless stated otherwise.\n",
    "\n",
    "Import `matplotlib.pyplot` as `plt`"
   ]
  },
  {
   "cell_type": "code",
   "execution_count": null,
   "outputs": [],
   "source": [],
   "metadata": {
    "collapsed": false,
    "pycharm": {
     "name": "#%%\n"
    }
   }
  },
  {
   "cell_type": "markdown",
   "source": [
    "Create a basic line graph using `plot` defined by `range(10)` using `plt.plot`"
   ],
   "metadata": {
    "collapsed": false
   }
  },
  {
   "cell_type": "code",
   "execution_count": null,
   "outputs": [],
   "source": [],
   "metadata": {
    "collapsed": false,
    "pycharm": {
     "name": "#%%\n"
    }
   }
  },
  {
   "cell_type": "markdown",
   "source": [
    "Let's create a pretty plot of chemistry data as follows:\n",
    "\n",
    "```yaml\n",
    "Time (decade):  [0, 1, 2, 3, 4, 5, 6]\n",
    "CO2 concentration (ppm): [250, 265, 272, 260, 300, 320, 389]\n",
    "```\n",
    "\n",
    "Create a line graph of `CO2` versus `Time`"
   ],
   "metadata": {
    "collapsed": false,
    "pycharm": {
     "name": "#%% md\n"
    }
   }
  },
  {
   "cell_type": "code",
   "execution_count": null,
   "outputs": [],
   "source": [
    "# Hint: You will want to enter the data into a list for each.\n",
    "\n",
    "CO2 = ...\n",
    "Time = ..."
   ],
   "metadata": {
    "collapsed": false,
    "pycharm": {
     "name": "#%%\n"
    }
   }
  },
  {
   "cell_type": "markdown",
   "source": [
    "Re-draw the graph with a blue dashed line (i.e. `color='b'` and `linestyle='dashed'`)\n",
    "- Add a title and label the axes to the plot."
   ],
   "metadata": {
    "collapsed": false
   }
  },
  {
   "cell_type": "code",
   "execution_count": null,
   "outputs": [],
   "source": [],
   "metadata": {
    "collapsed": false,
    "pycharm": {
     "name": "#%%\n"
    }
   }
  },
  {
   "cell_type": "markdown",
   "source": [
    "Using `CO2` and `Time` data as before, add some additional data:\n",
    "```yaml\n",
    "Temp (°C): [14.1, 15.5, 16.3, 18.1, 17.3, 19.1, 20.2]\n",
    "```\n",
    "Plot both `CO2` versus `Time` and `Temp` versus `Time` on the same plot. Let the first be a blue dashed line, `b--`, and second be a red star-dashed line, `r*-`.\n",
    "\n",
    "*Do not worry about the plot's scale, this can be fixed using multiple axes in the next section.*\n",
    "\n",
    "- Save the plot to your local space as a PDF file with `plt.save`"
   ],
   "metadata": {
    "collapsed": false
   }
  },
  {
   "cell_type": "code",
   "execution_count": null,
   "outputs": [],
   "source": [
    "Temp = ..."
   ],
   "metadata": {
    "collapsed": false,
    "pycharm": {
     "name": "#%%\n"
    }
   }
  },
  {
   "cell_type": "markdown",
   "source": [
    "## 2. Multiple axes and multiple graphs\n",
    "\n",
    "To use multiple axes and graphs, rather than calling `plt.plot`, you can use `fig, ax1 = plt.subplots()`.\n",
    "Now you can create plots using `ax1` rather than `plt`.\n",
    "\n",
    "Use the same data as before; `CO2`, `Temp`, `Time`:\n",
    "\n",
    "Create a line graph of `CO2` versus `Time` with `ax1`. Use a blue dashed line.\n",
    "\n",
    "- Set the y-axis label to \"CO2 concentration (ppm)\" using the `ax1.set_ylabel()` method.\n",
    "\n",
    "Get a second axis object using: `ax2 = ax1.twinx()`\n",
    "\n",
    "Create a line graph of `Temp` versus `Time` with `ax2`. Use a red star-dashed line.\n",
    "\n",
    "- Set the y-axis label to \"Temp (°C)\" using the `ax2.set_ylabel()` method."
   ],
   "metadata": {
    "collapsed": false
   }
  },
  {
   "cell_type": "code",
   "execution_count": null,
   "outputs": [],
   "source": [
    "fig, ax1 = ..."
   ],
   "metadata": {
    "collapsed": false,
    "pycharm": {
     "name": "#%%\n"
    }
   }
  },
  {
   "cell_type": "markdown",
   "source": [
    "Let's draw three graphs side by side on a single page.\n",
    "\n",
    "Use the `plt.subplot` function to select the first of three plots\n",
    "(i.e. `subplot(1, 3, 1)` where the first and second value is the number of plots x and y and third number is selecting which plot)\n",
    "\n",
    "- On subplot 1, plot a line of values: `range(0, 10, 1)`\n",
    "- On subplot 2, plot a line of values: `range(10, 0, -1)`\n",
    "- On subplot 3, plot a line of values: `[4] * 10`"
   ],
   "metadata": {
    "collapsed": false,
    "pycharm": {
     "name": "#%% md\n"
    }
   }
  },
  {
   "cell_type": "code",
   "execution_count": null,
   "outputs": [],
   "source": [],
   "metadata": {
    "collapsed": false,
    "pycharm": {
     "name": "#%%\n"
    }
   }
  },
  {
   "cell_type": "markdown",
   "source": [
    "## 3. Plotting gridded data on a map\n",
    "\n",
    "In this section, we will use Cartopy- a python module that supports maps and usage with matplotlib.\n",
    "\n",
    "First, let's grab some data from a NetCDF file and quickly plot it.\n",
    "\n",
    "The file \"python/exercises/example_data/tas.nc\" contains surface air temperature differences.\n",
    "We can extract the data and prepare it by importing the \"python/exercises/example_code/map_data.py\" module.\n",
    "\n",
    "Import the following:\n",
    "\n",
    "- From python/exercises/example_code/map_data.py import tas (temperature), lons (longitude), and lats (latitude).\n",
    "- Import cartopy.crs as ccrs"
   ],
   "metadata": {
    "collapsed": false
   }
  },
  {
   "cell_type": "code",
   "execution_count": null,
   "outputs": [],
   "source": [],
   "metadata": {
    "collapsed": false,
    "pycharm": {
     "name": "#%%\n"
    }
   }
  },
  {
   "cell_type": "markdown",
   "source": [
    "Create a new figure using `fig = plt.figure()` and set up a projection instance with a regular lat/lon coordinate reference system:\n",
    "`proj = ccrs.PlateCarree(central_longitude=0)`\n",
    "\n",
    "Make a plot using this projection: `mymap = fig.add_subplot(1,1,1, projection=proj)`\n",
    "\n",
    "Create a `Jet` colour map to plot the data:\n",
    "`im1 = mymap.pcolormesh(lons, lats, tas, shading='flat', cmap=plt.cm.jet)`\n",
    "\n",
    "Add coastlines: `mymap.coastlines(resolution='110m')`\n",
    "\n",
    "- Save the plot as \"tas1.png\"\n",
    "- Display the plot with `plt.show()`"
   ],
   "metadata": {
    "collapsed": false
   }
  },
  {
   "cell_type": "code",
   "execution_count": null,
   "outputs": [],
   "source": [
    "fig = ...\n",
    "proj = ...\n",
    "mymap = ...\n",
    "im1 = ..."
   ],
   "metadata": {
    "collapsed": false,
    "pycharm": {
     "name": "#%%\n"
    }
   }
  },
  {
   "cell_type": "markdown",
   "source": [
    "Import some more modules: `import cartopy.util as cutil`"
   ],
   "metadata": {
    "collapsed": false
   }
  },
  {
   "cell_type": "code",
   "execution_count": null,
   "outputs": [],
   "source": [],
   "metadata": {
    "collapsed": false,
    "pycharm": {
     "name": "#%%\n"
    }
   }
  },
  {
   "cell_type": "markdown",
   "source": [
    "Let's jazz up the plot by creating a wrapping longitude and adding some features.\n",
    "\n",
    "Wrap the data and longitudes to remove the missing data line down the middle of plot using `cutil`:\n",
    "`tas, lons = cutil.add_cyclic_point(tas, lons)`\n",
    "\n",
    "Copy the instructions above from creating the `fig` to up until you save the plot.\n",
    "\n",
    "Add a title: \"Change in Surface Air Temperature from MOHC HadGEM2-ES\" using `mymap` to set the title.\n",
    "\n",
    "Add some vertical and horizontal grid lines: `gridlines = mymap.gridlines(crs=ccrs.PlateCarree())`\n",
    "\n",
    "Add a colour bar after generating the colour map `im1`, with: `cb = fig.colorbar(im1, orientation=\"horizontal\")`\n",
    "\n",
    "- Save the plot as \"tas2.png\"\n",
    "- Display the plot."
   ],
   "metadata": {
    "collapsed": false,
    "pycharm": {
     "name": "#%% md\n"
    }
   }
  },
  {
   "cell_type": "code",
   "execution_count": null,
   "outputs": [],
   "source": [
    "tas, lons = ...\n",
    "\n",
    "fig = ...\n",
    "\n",
    "proj = ...\n",
    "mymap = ...\n",
    "im1 = ...\n",
    "\n",
    "...\n",
    "\n",
    "cb = ..."
   ],
   "metadata": {
    "collapsed": false,
    "pycharm": {
     "name": "#%%\n"
    }
   }
  }
 ],
 "metadata": {
  "kernelspec": {
   "name": "pycharm-820cc29a",
   "language": "python",
   "display_name": "PyCharm (ncas-isc)"
  },
  "language_info": {
   "codemirror_mode": {
    "name": "ipython",
    "version": 2
   },
   "file_extension": ".py",
   "mimetype": "text/x-python",
   "name": "python",
   "nbconvert_exporter": "python",
   "pygments_lexer": "ipython2",
   "version": "2.7.6"
  }
 },
 "nbformat": 4,
 "nbformat_minor": 0
}