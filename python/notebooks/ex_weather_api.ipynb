{
 "cells": [
  {
   "cell_type": "markdown",
   "source": [
    "# Exercise: Weather API\n",
    "\n",
    "## Aim: Use a Weather API to create and graph NETCDF4 files\n",
    "\n",
    "### Issues covered:\n",
    "\n",
    "- Request and get data from a web API endpoint\n",
    "- Read and retrieve information from a JSON response\n",
    "- Write and read NETCDF4 files\n",
    "- Create graphs from NETCDF4 files\n",
    "\n",
    "## 1. Let's get data from a web API on the internet.\n",
    "\n",
    "Use this url endpoint `https://api.weather.gov/` as the base.\n",
    "\n",
    "First, specific to this API, we want to get a station ID and grid co-ordinates. To do so\n",
    "we will use the `points/{latitude,longitude}` endpoint to get that information.\n",
    "\n",
    "*Choose the latitude and longitude of your favourite US location (this API is US only and in\n",
    "latitude North, longitude East)*\n",
    "\n",
    "To get weather data of a specific location, we use the `gridpoints/{station ID}/{grid co-ordinates}`\n",
    "endpoint to retrieve so."
   ],
   "metadata": {
    "collapsed": true,
    "pycharm": {
     "name": "#%% md\n"
    }
   }
  },
  {
   "cell_type": "code",
   "execution_count": null,
   "source": [
    "import requests"
   ],
   "outputs": [],
   "metadata": {
    "collapsed": false,
    "pycharm": {
     "name": "#%%\n"
    }
   }
  },
  {
   "cell_type": "markdown",
   "source": [
    "You can use the requests library to access the webAPI. Fill in the elipses with the `latitude` North and `longitude` East of a location in the US.\n",
    "If successful, the response code should be 200."
   ],
   "metadata": {
    "collapsed": false,
    "pycharm": {
     "name": "#%% md\n"
    }
   }
  },
  {
   "cell_type": "code",
   "execution_count": null,
   "source": [
    "url = 'https://api.weather.gov/'\n",
    "latitude = ...\n",
    "longitude = ...\n",
    "# Hint: use the requests library to GET from the url: https://api.weather.gov/points/{LAT},{LON}\n",
    "response = requests.get(f'{url}points/{latitude},{longitude}')\n",
    "response.status_code"
   ],
   "outputs": [],
   "metadata": {}
  },
  {
   "cell_type": "markdown",
   "source": [
    "With the requests library, the results from the webAPI can be extracted into a JSON. A JSON is behaves exactly like a dictionary.\n",
    "Use dictionary indexing to:\n",
    "\n",
    "- get `gridId`\n",
    "- get `gridX`\n",
    "- get `gridY`"
   ],
   "metadata": {}
  },
  {
   "cell_type": "code",
   "execution_count": null,
   "source": [
    "# hint: you can view the JSON on your browser by pasting the URL from the get request.\n",
    "\n",
    "response = response.json()\n",
    "\n",
    "gridID = ...\n",
    "gridX = ...\n",
    "gridY = ..."
   ],
   "outputs": [],
   "metadata": {
    "collapsed": false,
    "pycharm": {
     "name": "#%%\n"
    }
   }
  },
  {
   "cell_type": "markdown",
   "source": [
    "With your gridID, gridX, and gridY, use the `gridpoints` endpoint and do a get request, printing the status code.\n",
    "If everything is working, you should get another 200 status code."
   ],
   "metadata": {
    "collapsed": false
   }
  },
  {
   "cell_type": "code",
   "execution_count": null,
   "source": [
    "response = requests.get(f'{url}gridpoints/{gridID}/{gridX},{gridY}')\n",
    "response.status_code"
   ],
   "outputs": [],
   "metadata": {
    "collapsed": false,
    "pycharm": {
     "name": "#%%\n"
    }
   }
  },
  {
   "cell_type": "markdown",
   "source": [
    "Can you use the json response data to get the forecast temperature values? Use dictionary indexing to get the `values` from `temperature` in `properties`."
   ],
   "metadata": {}
  },
  {
   "cell_type": "code",
   "execution_count": null,
   "source": [
    "data = response.json()\n",
    "forecast = ..."
   ],
   "outputs": [],
   "metadata": {}
  },
  {
   "cell_type": "markdown",
   "source": [
    "The below code extracts the coordinates of the station you have chosen."
   ],
   "metadata": {}
  },
  {
   "cell_type": "code",
   "execution_count": null,
   "source": [
    "coords = data['geometry']['coordinates'][0][0]\n",
    "x = coords[1]\n",
    "y = coords[0]"
   ],
   "outputs": [],
   "metadata": {}
  },
  {
   "cell_type": "markdown",
   "source": [
    "## 2. Let's format that data and export as NETCDF4\n",
    "\n",
    "### Format data\n",
    "\n",
    "First, format your forecast data to get the datetime and air temperature as separate\n",
    "lists."
   ],
   "metadata": {
    "collapsed": false
   }
  },
  {
   "cell_type": "code",
   "execution_count": null,
   "source": [
    "from datetime import datetime as dt"
   ],
   "outputs": [],
   "metadata": {
    "collapsed": false,
    "pycharm": {
     "name": "#%%\n"
    }
   }
  },
  {
   "cell_type": "markdown",
   "source": [
    "Loop through your `forecast` values and get the temperatures `value` and dates `validTime` into a list.\n",
    "`forecast` is a list of dictionaries, where each dictionary is of one time instance.\n",
    "Fill in the elipses to format the `validTime` string to a python datetime object to the variable date and `value` to the variable temp. They will then be added to the `temps` and `timeseries` list."
   ],
   "metadata": {}
  },
  {
   "cell_type": "code",
   "execution_count": null,
   "source": [
    "# Use the datetime module to convert the times from the data to a datetime object.\n",
    "# Hint: look at the validTime string and see how you can turn the string to datetime\n",
    "#  using strptime, the format of the datetime is in '%Y-%m-%dT%H:%M:%Sz'.\n",
    "\n",
    "timeseries = []\n",
    "temps = []\n",
    "\n",
    "for item in forecast:\n",
    "    ...\n",
    "    timeseries.append(date)\n",
    "    temps.append(temp)"
   ],
   "outputs": [],
   "metadata": {
    "collapsed": false,
    "pycharm": {
     "name": "#%%\n"
    }
   }
  },
  {
   "cell_type": "markdown",
   "source": [
    "Format the time list you just made and convert to relative time in seconds from the start\n",
    "the timeseries. The NETCDF using the CF conventions stores time as an offset from a\n",
    "base time rather than an absolute time.\n",
    "\n",
    "If you are stuck, take look at the 'Time series' slide in the [`logging data from serial ports`](https://github.com/ncasuk/ncas-isc/blob/master/python/presentations/logging-data-from-serial-ports/LDFSP_Slides.pdf) presentation."
   ],
   "metadata": {
    "collapsed": false
   }
  },
  {
   "cell_type": "code",
   "execution_count": null,
   "source": [
    "base_time = timeseries[0]\n",
    "time_values = []\n",
    "\n",
    "for t in timeseries:\n",
    "    ...\n",
    "\n",
    "time_units = ..."
   ],
   "outputs": [],
   "metadata": {
    "collapsed": false,
    "pycharm": {
     "name": "#%%\n"
    }
   }
  },
  {
   "cell_type": "markdown",
   "source": [
    "Format the `temps` list you just made to Kelvins. As per CF conventions, the canonical units for Air Temperature is degrees K. Add the Kelvins temperature to the `temp_values` list, just like above."
   ],
   "metadata": {
    "collapsed": false,
    "pycharm": {
     "name": "#%% md\n"
    }
   }
  },
  {
   "cell_type": "code",
   "execution_count": null,
   "source": [
    "temp_values = []\n",
    "\n",
    "..."
   ],
   "outputs": [],
   "metadata": {
    "collapsed": false,
    "pycharm": {
     "name": "#%%\n"
    }
   }
  },
  {
   "cell_type": "markdown",
   "source": [
    "### Create NetCDF File\n"
   ],
   "metadata": {
    "collapsed": false
   }
  },
  {
   "cell_type": "code",
   "execution_count": null,
   "source": [
    "from netCDF4 import Dataset\n",
    "import numpy as np"
   ],
   "outputs": [],
   "metadata": {
    "collapsed": false,
    "pycharm": {
     "name": "#%%\n"
    }
   }
  },
  {
   "cell_type": "markdown",
   "source": [
    "Create the output file (NetCDF dataset):\n",
    "\n",
    "- Output file to the group workspace.\n",
    "- Name your file as {Grid ID}-{name}-temps.nc\n",
    "- The outfile, the location, should be the jasmin shared group workspace directory.\n",
    "\n",
    "If you need help, have a look at the 'Create the NetCDF dimensions & variables' slide in the [`logging data from serial ports`](https://github.com/ncasuk/ncas-isc/blob/master/python/presentations/logging-data-from-serial-ports/LDFSP_Slides.pdf) presentation."
   ],
   "metadata": {}
  },
  {
   "cell_type": "code",
   "execution_count": null,
   "source": [
    "dataset = ..."
   ],
   "outputs": [],
   "metadata": {
    "collapsed": false,
    "pycharm": {
     "name": "#%%\n"
    }
   }
  },
  {
   "cell_type": "markdown",
   "source": [
    "Create the time dimension - with unlimited length"
   ],
   "metadata": {}
  },
  {
   "cell_type": "code",
   "execution_count": null,
   "source": [
    "time_dim = ..."
   ],
   "outputs": [],
   "metadata": {}
  },
  {
   "cell_type": "markdown",
   "source": [
    "Create the time variable with the following attributes:\n",
    "- time variables as a numpy float\n",
    "- fill in the variable with `time_values`\n",
    "- units as time_units defined earlier\n",
    "- standard_name as time\n",
    "- calendar as standard"
   ],
   "metadata": {}
  },
  {
   "cell_type": "code",
   "execution_count": null,
   "source": [
    "time_var = ...\n",
    "time_var[:] = ...\n",
    "time_var.units = ...\n",
    "time_var.standard_name = ...\n",
    "time_var.calendar = ..."
   ],
   "outputs": [],
   "metadata": {}
  },
  {
   "cell_type": "markdown",
   "source": [
    "Create the temp variable with the following attributes:\n",
    "- temp variables as a numpy float\n",
    "- fill in the variable with `temp_values`\n",
    "- var_id as temp\n",
    "- long_name as air temperature (K)\n",
    "- units as K\n",
    "- standard_name as air_temperature\n",
    "- coordinates as the x and y values from the coords variable defined before"
   ],
   "metadata": {}
  },
  {
   "cell_type": "code",
   "execution_count": null,
   "source": [
    "temp_var = ...\n",
    "temp_var[:] = ...\n",
    "temp_var.var_id = ...\n",
    "temp_var.long_name = ...\n",
    "temp_var.units = ...\n",
    "temp_var.standard_name = ...\n",
    "temp_var.coordinates = ..."
   ],
   "outputs": [],
   "metadata": {}
  },
  {
   "cell_type": "markdown",
   "source": [
    "Set the global attributes as follows:\n",
    "- who: your name\n",
    "- where: location of your forecast (grid ID or name)\n",
    "- when: current datetime as day-month-year hour:minute\n",
    "- how: forecast data gathered from weather API\n",
    "- what: air temperature data in K of 7 day forecast"
   ],
   "metadata": {}
  },
  {
   "cell_type": "code",
   "execution_count": null,
   "source": [
    "dataset.who = ...\n",
    "dataset.where = ...\n",
    "dataset.when = ...\n",
    "dataset.how = ...\n",
    "dataset.what = ..."
   ],
   "outputs": [],
   "metadata": {}
  },
  {
   "cell_type": "markdown",
   "source": [
    "Save your NetCDF file by closing the dataset."
   ],
   "metadata": {}
  },
  {
   "cell_type": "code",
   "execution_count": null,
   "source": [
    "dataset.close()"
   ],
   "outputs": [],
   "metadata": {}
  },
  {
   "cell_type": "markdown",
   "source": [
    "## 3. Import NetCDF4 from Group Workspace\n",
    "\n",
    "To find all the `.nc` files in a group workspace, we will use the glob module in Python.\n",
    "Glob let's us find all files matching a pattern, in our case:\n",
    "\n",
    "`<groupworkspace>/*.nc`"
   ],
   "metadata": {
    "collapsed": false,
    "pycharm": {
     "name": "#%% md\n"
    }
   }
  },
  {
   "cell_type": "code",
   "execution_count": null,
   "source": [
    "from glob import glob"
   ],
   "outputs": [],
   "metadata": {
    "collapsed": false,
    "pycharm": {
     "name": "#%%\n"
    }
   }
  },
  {
   "cell_type": "markdown",
   "source": [
    "Can you use glob to make a list of filepaths of all NetCDF files in the\n",
    "group workspace?"
   ],
   "metadata": {
    "collapsed": false,
    "pycharm": {
     "name": "#%% md\n"
    }
   }
  },
  {
   "cell_type": "code",
   "execution_count": null,
   "source": [
    "filepaths = glob(\"{...}*temps.nc\")"
   ],
   "outputs": [],
   "metadata": {
    "collapsed": false,
    "pycharm": {
     "name": "#%%\n"
    }
   }
  },
  {
   "cell_type": "markdown",
   "source": [
    "## 4. Graph data from NetCDF\n",
    "Now that we have a list of netCDF filepaths, we can open them and extract their data.\n",
    "\n",
    "To start, let us make the plots using matplotlib."
   ],
   "metadata": {
    "collapsed": false,
    "pycharm": {
     "name": "#%% md\n"
    }
   }
  },
  {
   "cell_type": "code",
   "execution_count": null,
   "source": [
    "from netCDF4 import num2date\n",
    "import matplotlib.pyplot as plt\n",
    "import  matplotlib.dates as mdates\n",
    "%matplotlib inline"
   ],
   "outputs": [],
   "metadata": {
    "collapsed": false,
    "pycharm": {
     "name": "#%%\n"
    }
   }
  },
  {
   "cell_type": "markdown",
   "source": [
    "Create a subplots figure with figure and axis"
   ],
   "metadata": {
    "collapsed": false,
    "pycharm": {
     "name": "#%% md\n"
    }
   }
  },
  {
   "cell_type": "code",
   "execution_count": null,
   "source": [
    "fig, ax = ..."
   ],
   "outputs": [],
   "metadata": {
    "collapsed": false,
    "pycharm": {
     "name": "#%%\n"
    }
   }
  },
  {
   "cell_type": "markdown",
   "source": [
    "Can you set the x-axis locator (ticks) using dates class from matplotlib?\n",
    "- set the major locator to days.\n",
    "- set the minor locator to every 6 hours.\n",
    "- set the x-axis formatter to Day-Month for each day."
   ],
   "metadata": {
    "collapsed": false,
    "pycharm": {
     "name": "#%% md\n"
    }
   }
  },
  {
   "cell_type": "code",
   "execution_count": null,
   "source": [
    "# In the matplotlib.dates module, as mdates, look at the DayLocator and HourLocator.\n",
    "fmt_day = ...\n",
    "fmt_six_hours = ...\n",
    "\n",
    "ax.xaxis.set_major_locator(fmt_day)\n",
    "ax.xaxis.set_minor_locator(fmt_six_hours)\n",
    "ax.xaxis.set_major_formatter(mdates.DateFormatter('%d-%m'))"
   ],
   "outputs": [],
   "metadata": {
    "collapsed": false,
    "pycharm": {
     "name": "#%%\n"
    }
   }
  },
  {
   "cell_type": "markdown",
   "source": [
    "Label the axis, `ax`, on the plot:\n",
    "- label the x-axis as date\n",
    "- label the y-axis as air temperature / K\n",
    "- set a title to your plot"
   ],
   "metadata": {
    "collapsed": false,
    "pycharm": {
     "name": "#%% md\n"
    }
   }
  },
  {
   "cell_type": "code",
   "execution_count": null,
   "source": [
    "..."
   ],
   "outputs": [],
   "metadata": {
    "collapsed": false,
    "pycharm": {
     "name": "#%%\n"
    }
   }
  },
  {
   "cell_type": "markdown",
   "source": [
    "Open the netCDF file and extract the `temp` and `time` variables from the file and use\n",
    "matplotlib `plot_date` function to plot the graph, looping through each file.\n",
    "\n",
    "- set the label of plot to the coordinate attribute of the temp variable.\n",
    "\n",
    "Replace the elipses with your plotting, the for loop allows you to plot through all the shared netCDF files in the workspace, where `f` is the datafile and `filepath` is a list of datafiles.\n",
    "\n",
    "If you need help, look at the 'Plotting data with matplotlib' slide in the [`logging data from serial ports`](https://github.com/ncasuk/ncas-isc/blob/master/python/presentations/logging-data-from-serial-ports/LDFSP_Slides.pdf) presentation.\n",
    "\n",
    "Plot a line graph using matplotlib: \n",
    "\n",
    "- you will need to set the marker to `-` otherwise you will get a scatter graph.\n",
    "- set the label of the plot to that of the `where` metadata in the netCDF global attributes."
   ],
   "metadata": {
    "collapsed": false,
    "pycharm": {
     "name": "#%% md\n"
    }
   }
  },
  {
   "cell_type": "code",
   "execution_count": null,
   "source": [
    "for f in filepaths:\n",
    "    ..."
   ],
   "outputs": [],
   "metadata": {
    "collapsed": false,
    "pycharm": {
     "name": "#%%\n"
    }
   }
  },
  {
   "cell_type": "markdown",
   "source": [
    "Finally, show the plot with a legend, you might want to enable tight layout,\n",
    "and save the plot to your personal space."
   ],
   "metadata": {
    "collapsed": false,
    "pycharm": {
     "name": "#%% md\n"
    }
   }
  },
  {
   "cell_type": "code",
   "execution_count": null,
   "source": [
    "..."
   ],
   "outputs": [],
   "metadata": {
    "collapsed": false,
    "pycharm": {
     "name": "#%%\n"
    }
   }
  }
 ],
 "metadata": {
  "kernelspec": {
   "display_name": "Python 3",
   "language": "python",
   "name": "python3"
  },
  "language_info": {
   "codemirror_mode": {
    "name": "ipython",
    "version": 2
   },
   "file_extension": ".py",
   "mimetype": "text/x-python",
   "name": "python",
   "nbconvert_exporter": "python",
   "pygments_lexer": "ipython2",
   "version": "2.7.6"
  }
 },
 "nbformat": 4,
 "nbformat_minor": 2
}