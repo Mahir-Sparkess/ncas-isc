{
 "cells": [
  {
   "cell_type": "markdown",
   "source": [
    "# Exercise: Weather API\n",
    "\n",
    "## Aim: Use a Weather API to create and graph NETCDF4 files\n",
    "\n",
    "### Issues covered:\n",
    "\n",
    "- Request and get data from a web API endpoint\n",
    "- Read and retrieve information from a JSON response\n",
    "- Write and read NETCDF4 files\n",
    "- Create graphs from NETCDF4 files\n",
    "\n",
    "## 1. Let's get data from a web API on the internet.\n",
    "\n",
    "Use this url endpoint `https://api.weather.gov/` as the base.\n",
    "\n",
    "First, specific to this API, we want to get a station ID and grid co-ordinates. To do so\n",
    "we will use the `points/{latitude,longitude}` endpoint to get that information.\n",
    "\n",
    "*Choose the latitude and longitude of your favourite US location (this API is US only and in\n",
    "latitude North, longitude East)*\n",
    "\n",
    "To get weather data of a specific location, we use the `gridpoints/{station ID}/{grid co-ordinates}`\n",
    "endpoint to retrieve so."
   ],
   "metadata": {
    "collapsed": true,
    "pycharm": {
     "name": "#%% md\n"
    }
   }
  },
  {
   "cell_type": "code",
   "execution_count": 1,
   "source": [
    "import requests"
   ],
   "outputs": [],
   "metadata": {
    "collapsed": false,
    "pycharm": {
     "name": "#%%\n"
    }
   }
  },
  {
   "cell_type": "markdown",
   "source": [
    "With the request library, combine the `base url` and `points` and do a get request to a variable named `response`, can you print the status code?\n",
    "If it is a 200, it passed!"
   ],
   "metadata": {
    "collapsed": false,
    "pycharm": {
     "name": "#%% md\n"
    }
   }
  },
  {
   "cell_type": "code",
   "execution_count": 2,
   "source": [
    "url = 'https://api.weather.gov/'\n",
    "latitude, longitude = '38.9072', '-77.0369'\n",
    "response = requests.get(f'{url}points/{latitude},{longitude}')\n",
    "response.status_code"
   ],
   "outputs": [
    {
     "data": {
      "text/plain": "200"
     },
     "execution_count": 2,
     "metadata": {},
     "output_type": "execute_result"
    }
   ],
   "metadata": {}
  },
  {
   "cell_type": "markdown",
   "source": [
    "Now with your response, retrieve the gridID, gridX and gridY values into their own respective variables."
   ],
   "metadata": {}
  },
  {
   "cell_type": "code",
   "execution_count": 3,
   "source": [
    "# hint: turn your response into a JSON. A JSON is a dictionary,\n",
    "# you can view the JSON on your browser by pasting the URL from the get request.\n",
    "\n",
    "response = response.json()\n",
    "\n",
    "gridID = response['properties']['gridId']\n",
    "gridX = response['properties']['gridX']\n",
    "gridY = response['properties']['gridY']"
   ],
   "outputs": [],
   "metadata": {
    "collapsed": false,
    "pycharm": {
     "name": "#%%\n"
    }
   }
  },
  {
   "cell_type": "markdown",
   "source": [
    "With your gridID, gridX, and gridY, use the `gridpoints` endpoint and do a get request, printing the status code.\n",
    "If everything is working, you should get another 200 status code."
   ],
   "metadata": {
    "collapsed": false
   }
  },
  {
   "cell_type": "code",
   "execution_count": 4,
   "source": [
    "response = requests.get(f'{url}gridpoints/{gridID}/{gridX},{gridY}')\n",
    "response.status_code"
   ],
   "outputs": [
    {
     "data": {
      "text/plain": "200"
     },
     "execution_count": 4,
     "metadata": {},
     "output_type": "execute_result"
    }
   ],
   "metadata": {
    "collapsed": false,
    "pycharm": {
     "name": "#%%\n"
    }
   }
  },
  {
   "cell_type": "markdown",
   "source": [
    "Can you get the JSON from the response and retrieve the forecast values for temperature?"
   ],
   "metadata": {}
  },
  {
   "cell_type": "code",
   "execution_count": 5,
   "source": [
    "data = response.json()\n",
    "forecast = data['properties']['temperature']['values']"
   ],
   "outputs": [],
   "metadata": {}
  },
  {
   "cell_type": "markdown",
   "source": [
    "Retrieve the coordinates in a `x` and `y` variable from the JSON as well."
   ],
   "metadata": {}
  },
  {
   "cell_type": "code",
   "execution_count": 6,
   "source": [
    "coords = data['geometry']['coordinates'][0][0]\n",
    "x = coords[1]\n",
    "y = coords[0]"
   ],
   "outputs": [],
   "metadata": {}
  },
  {
   "cell_type": "markdown",
   "source": [
    "## 2. Let's format that data and export as NETCDF4\n",
    "\n",
    "### Format data\n",
    "\n",
    "First, format your forecast data to get the datetime and air temperature as separate\n",
    "lists."
   ],
   "metadata": {
    "collapsed": false
   }
  },
  {
   "cell_type": "code",
   "execution_count": 7,
   "source": [
    "from datetime import datetime as dt"
   ],
   "outputs": [],
   "metadata": {
    "collapsed": false,
    "pycharm": {
     "name": "#%%\n"
    }
   }
  },
  {
   "cell_type": "markdown",
   "source": [
    "Loop through your forecast values and get the temperatures `value` and dates `validTime` into a list."
   ],
   "metadata": {}
  },
  {
   "cell_type": "code",
   "execution_count": 8,
   "source": [
    "# Use the datetime module to convert the times from the data to a datetime object.\n",
    "# Hint: look at the validTime string and see how you can turn the string to datetime\n",
    "#  using strptime.\n",
    "\n",
    "timeseries = []\n",
    "temps = []\n",
    "\n",
    "for item in forecast:\n",
    "    date = item['validTime']\n",
    "    date = dt.strptime(date.split('/')[0], '%Y-%m-%dT%H:%M:%S%z')\n",
    "    timeseries.append(date)\n",
    "    temp = item['value']\n",
    "    temps.append(temp)"
   ],
   "outputs": [],
   "metadata": {
    "collapsed": false,
    "pycharm": {
     "name": "#%%\n"
    }
   }
  },
  {
   "cell_type": "markdown",
   "source": [
    "Format the time list you just made and convert to relative time in seconds from the start\n",
    "the timeseries. The NETCDF using the CF conventions stores time as an offset from a\n",
    "base time rather than an absolute time."
   ],
   "metadata": {
    "collapsed": false
   }
  },
  {
   "cell_type": "code",
   "execution_count": 9,
   "source": [
    "base_time = timeseries[0]\n",
    "time_values = []\n",
    "\n",
    "for t in timeseries:\n",
    "    value = t - base_time\n",
    "    ts = value.total_seconds()\n",
    "    time_values.append(ts)\n",
    "\n",
    "time_units = \"seconds since \" + base_time.strftime('%Y-%m-%d %H:%M:%S')"
   ],
   "outputs": [],
   "metadata": {
    "collapsed": false,
    "pycharm": {
     "name": "#%%\n"
    }
   }
  },
  {
   "cell_type": "markdown",
   "source": [
    "Format the temps list you just made to Kelvins. As per CF conventions, the canonical units\n",
    "for Air Temperature is degrees K."
   ],
   "metadata": {
    "collapsed": false,
    "pycharm": {
     "name": "#%% md\n"
    }
   }
  },
  {
   "cell_type": "code",
   "execution_count": 10,
   "source": [
    "temp_values = []\n",
    "\n",
    "for t in temps:\n",
    "    t = t + 273.15\n",
    "    temp_values.append(t)"
   ],
   "outputs": [],
   "metadata": {
    "collapsed": false,
    "pycharm": {
     "name": "#%%\n"
    }
   }
  },
  {
   "cell_type": "markdown",
   "source": [
    "### Create NetCDF File\n",
    "\n",
    "Create the output file (NetCDF dataset):\n",
    "- Output file to the group workspace.\n",
    "- Name your file as <Grid ID>_<name>_temps.nc"
   ],
   "metadata": {
    "collapsed": false
   }
  },
  {
   "cell_type": "code",
   "execution_count": 11,
   "source": [
    "from netCDF4 import Dataset\n",
    "import numpy as np"
   ],
   "outputs": [],
   "metadata": {
    "collapsed": false,
    "pycharm": {
     "name": "#%%\n"
    }
   }
  },
  {
   "cell_type": "code",
   "execution_count": 12,
   "source": [
    "outfile = f'/Users/kazi.mahir/Documents/{gridID}_myName_temps.nc'\n",
    "dataset = Dataset(outfile, \"w\", format=\"NETCDF4_CLASSIC\")"
   ],
   "outputs": [],
   "metadata": {
    "collapsed": false,
    "pycharm": {
     "name": "#%%\n"
    }
   }
  },
  {
   "cell_type": "markdown",
   "source": [
    "Create the time dimension - with unlimited length"
   ],
   "metadata": {}
  },
  {
   "cell_type": "code",
   "execution_count": 13,
   "source": [
    "time_dim = dataset.createDimension('time', None)"
   ],
   "outputs": [],
   "metadata": {}
  },
  {
   "cell_type": "markdown",
   "source": [
    "Create the time variable with the following attributes:\n",
    "- time variables as a numpy float\n",
    "- units as time_units defined earlier\n",
    "- standard_name as time\n",
    "- calendar as standard"
   ],
   "metadata": {}
  },
  {
   "cell_type": "code",
   "execution_count": 14,
   "source": [
    "time_var = dataset.createVariable('time', np.float64, ('time',))\n",
    "time_var[:] = time_values\n",
    "time_var.units = time_units\n",
    "time_var.standard_name = 'time'\n",
    "time_var.calendar = 'standard'"
   ],
   "outputs": [],
   "metadata": {}
  },
  {
   "cell_type": "markdown",
   "source": [
    "Create the temp variable with the following attributes:\n",
    "- temp variables as a numpy float\n",
    "- var_id as temp\n",
    "- long_name as air temperature (K)\n",
    "- units as K\n",
    "- standard_name as air_temperature\n",
    "- coordinates as the x and y values from the coords variable defined before"
   ],
   "metadata": {}
  },
  {
   "cell_type": "code",
   "execution_count": 15,
   "source": [
    "temp_var = dataset.createVariable('temp', np.float32, ('time',))\n",
    "temp_var[:] = temp_values\n",
    "temp_var.var_id = 'temp'\n",
    "temp_var.long_name = \"Air Temperature (K)\"\n",
    "temp_var.units = 'K'\n",
    "temp_var.standard_name = 'air_temperature'\n",
    "temp_var.coordinates = (coords[1], coords[0])"
   ],
   "outputs": [],
   "metadata": {}
  },
  {
   "cell_type": "markdown",
   "source": [
    "Set the global attributes as follows:\n",
    "- who: your name\n",
    "- where: location of your forecast (grid ID or name)\n",
    "- when: current datetime as day-month-year hour:minute\n",
    "- why:\n",
    "- how: forecast data gathered from weather API\n",
    "- what: air temperature data in K of 7 day forecast"
   ],
   "metadata": {}
  },
  {
   "cell_type": "code",
   "execution_count": 16,
   "source": [
    "dataset.who = 'Mahir Rahman'\n",
    "dataset.where = 'Washington DC'\n",
    "dataset.when = dt.now().strftime('%d-%m-%Y %H:%M')\n",
    "dataset.why = \"why\"\n",
    "dataset.how = \"forecast data gethered from weather API\"\n",
    "dataset.what = \"air temperature data in K of 7 day forecast\""
   ],
   "outputs": [],
   "metadata": {}
  },
  {
   "cell_type": "markdown",
   "source": [
    "Save your NetCDF file by closing the dataset."
   ],
   "metadata": {}
  },
  {
   "cell_type": "code",
   "execution_count": 17,
   "source": [
    "dataset.close()"
   ],
   "outputs": [],
   "metadata": {}
  },
  {
   "cell_type": "markdown",
   "source": [
    "## 3. Import NetCDF4 from Group Workspace\n",
    "\n",
    "To find all the `.nc` files in a group workspace, we will use the glob module in Python.\n",
    "Glob let's us find all files matching a pattern, in our case:\n",
    "\n",
    "`<groupworkspace>/*.nc`"
   ],
   "metadata": {
    "collapsed": false,
    "pycharm": {
     "name": "#%% md\n"
    }
   }
  },
  {
   "cell_type": "code",
   "execution_count": 18,
   "outputs": [],
   "source": [
    "from glob import glob"
   ],
   "metadata": {
    "collapsed": false,
    "pycharm": {
     "name": "#%%\n"
    }
   }
  },
  {
   "cell_type": "markdown",
   "source": [
    "Can you use glob to make a list of filepaths of all NetCDF files in the\n",
    "group workspace?"
   ],
   "metadata": {
    "collapsed": false,
    "pycharm": {
     "name": "#%% md\n"
    }
   }
  },
  {
   "cell_type": "code",
   "execution_count": 19,
   "outputs": [],
   "source": [
    "filepaths = glob(\"/Users/kazi.mahir/Documents/*.nc\")"
   ],
   "metadata": {
    "collapsed": false,
    "pycharm": {
     "name": "#%%\n"
    }
   }
  },
  {
   "cell_type": "markdown",
   "source": [
    "## 4. Graph data from NetCDF\n",
    "Now that we have a list of netCDF filepaths, we can open them and extract their data.\n",
    "\n",
    "To start, let us make the plots using matplotlib."
   ],
   "metadata": {
    "collapsed": false,
    "pycharm": {
     "name": "#%% md\n"
    }
   }
  },
  {
   "cell_type": "code",
   "source": [
    "from netCDF4 import num2date\n",
    "import matplotlib.pyplot as plt\n",
    "import  matplotlib.dates as mdates\n",
    "%matplotlib inline"
   ],
   "metadata": {
    "collapsed": false,
    "pycharm": {
     "name": "#%%\n"
    }
   },
   "execution_count": 20,
   "outputs": []
  },
  {
   "cell_type": "markdown",
   "source": [
    "Create a subplots figure with figure and axis"
   ],
   "metadata": {
    "collapsed": false,
    "pycharm": {
     "name": "#%% md\n"
    }
   }
  },
  {
   "cell_type": "code",
   "execution_count": 21,
   "outputs": [
    {
     "data": {
      "text/plain": "<Figure size 432x288 with 1 Axes>",
      "image/png": "[encoded data removed]"
     },
     "metadata": {
      "needs_background": "light"
     },
     "output_type": "display_data"
    }
   ],
   "source": [
    "fig, ax = plt.subplots();"
   ],
   "metadata": {
    "collapsed": false,
    "pycharm": {
     "name": "#%%\n"
    }
   }
  },
  {
   "cell_type": "markdown",
   "source": [
    "Can you set the x-axis locator (ticks) using dates class from matplotlib?\n",
    "- set the major locator to days.\n",
    "- set the minor locator to every 6 hours.\n",
    "- set the x-axis formatter to Day-Month for each day."
   ],
   "metadata": {
    "collapsed": false,
    "pycharm": {
     "name": "#%% md\n"
    }
   }
  },
  {
   "cell_type": "code",
   "execution_count": 22,
   "outputs": [],
   "source": [
    "fmt_day = mdates.DayLocator()\n",
    "fmt_six_hours = mdates.HourLocator(interval=6)\n",
    "\n",
    "ax.xaxis.set_major_locator(fmt_day)\n",
    "ax.xaxis.set_minor_locator(fmt_six_hours)\n",
    "ax.xaxis.set_major_formatter(mdates.DateFormatter('%d-%m'))"
   ],
   "metadata": {
    "collapsed": false,
    "pycharm": {
     "name": "#%%\n"
    }
   }
  },
  {
   "cell_type": "markdown",
   "source": [
    "Label the axis on the plot:\n",
    "- label the x-axis as date\n",
    "- label the y-axis as air temperature / K\n",
    "- set a title to your plot"
   ],
   "metadata": {
    "collapsed": false,
    "pycharm": {
     "name": "#%% md\n"
    }
   }
  },
  {
   "cell_type": "code",
   "execution_count": 23,
   "outputs": [
    {
     "data": {
      "text/plain": "Text(0.5, 1.0, 'Air temperature Forecast')"
     },
     "execution_count": 23,
     "metadata": {},
     "output_type": "execute_result"
    }
   ],
   "source": [
    "ax.set_xlabel(\"Date\")\n",
    "ax.set_ylabel(\"Air Temperature / K\")\n",
    "ax.set_title(\"Air temperature Forecast\")"
   ],
   "metadata": {
    "collapsed": false,
    "pycharm": {
     "name": "#%%\n"
    }
   }
  },
  {
   "cell_type": "markdown",
   "source": [
    "Open the netCDF file and extract the `temp` and `time` variables from the file and use\n",
    "matplotlib `plot_date` function to plot the graph, looping through each file.\n",
    "- set the label of plot to the coordinate attribute of the temp variable.\n",
    "\n",
    "Plot a line graph using matplotlib."
   ],
   "metadata": {
    "collapsed": false,
    "pycharm": {
     "name": "#%% md\n"
    }
   }
  },
  {
   "cell_type": "code",
   "execution_count": 24,
   "outputs": [],
   "source": [
    "\n",
    "# Hint: to use plot_date, you will need to convert the times in the time variable\n",
    "# of the dataset to a datetime object using num2date.\n",
    "\n",
    "for f in filepaths:\n",
    "    net = Dataset(f, mode='r')\n",
    "    temps = net.variables['temp'][:]\n",
    "    times = net.variables['time'][:]\n",
    "    times = num2date(times[:],\n",
    "                     units=net.variables['time'].units,\n",
    "                     calendar=net.variables['time'].calendar)\n",
    "    ax.plot_date(times, temps, '-', label=net.variables['temp'].coordinates)"
   ],
   "metadata": {
    "collapsed": false,
    "pycharm": {
     "name": "#%%\n"
    }
   }
  },
  {
   "cell_type": "markdown",
   "source": [
    "Finally, show the plot with a legend, you might want to enable tight layout,\n",
    "and save the plot to your personal space."
   ],
   "metadata": {
    "collapsed": false,
    "pycharm": {
     "name": "#%% md\n"
    }
   }
  },
  {
   "cell_type": "code",
   "execution_count": 25,
   "outputs": [
    {
     "data": {
      "text/plain": "<Figure size 432x288 with 1 Axes>",
      "image/png": "[encoded data removed]"
     },
     "execution_count": 25,
     "metadata": {},
     "output_type": "execute_result"
    }
   ],
   "source": [
    "ax.grid(True)\n",
    "fig.tight_layout()\n",
    "ax.legend()\n",
    "fig"
   ],
   "metadata": {
    "collapsed": false,
    "pycharm": {
     "name": "#%%\n"
    }
   }
  }
 ],
 "metadata": {
  "kernelspec": {
   "display_name": "Python 3",
   "language": "python",
   "name": "python3"
  },
  "language_info": {
   "codemirror_mode": {
    "name": "ipython",
    "version": 2
   },
   "file_extension": ".py",
   "mimetype": "text/x-python",
   "name": "python",
   "nbconvert_exporter": "python",
   "pygments_lexer": "ipython2",
   "version": "2.7.6"
  }
 },
 "nbformat": 4,
 "nbformat_minor": 2
}